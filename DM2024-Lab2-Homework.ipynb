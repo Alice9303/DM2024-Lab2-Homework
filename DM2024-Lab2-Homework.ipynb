{
 "cells": [
  {
   "attachments": {
    "89943587-7c33-4bba-ab2e-e94fd84788fa.png": {
     "image/png": "[encoded data removed]"
    }
   },
   "cell_type": "markdown",
   "metadata": {},
   "source": [
    "### Student Information\n",
    "Name:陳玟卉\n",
    "\n",
    "Student ID:D1114242002\n",
    "\n",
    "GitHub ID:Alice9303\n",
    "\n",
    "Kaggle name:alice0329\n",
    "\n",
    "Kaggle private scoreboard snapshot:![image.png](attachment:89943587-7c33-4bba-ab2e-e94fd84788fa.png)"
   ]
  },
  {
   "cell_type": "markdown",
   "metadata": {},
   "source": [
    "---"
   ]
  },
  {
   "cell_type": "markdown",
   "metadata": {},
   "source": [
    "### Instructions"
   ]
  },
  {
   "cell_type": "markdown",
   "metadata": {},
   "source": [
    "1. First: __This part is worth 30% of your grade.__ Do the **take home exercises** in the [DM2024-Lab2-master Repo](https://github.com/didiersalazar/DM2024-Lab2-Master). You may need to copy some cells from the Lab notebook to this notebook. \n",
    "\n",
    "\n",
    "2. Second: __This part is worth 30% of your grade.__ Participate in the in-class [Kaggle Competition](https://www.kaggle.com/competitions/dm-2024-isa-5810-lab-2-homework) regarding Emotion Recognition on Twitter by this link: https://www.kaggle.com/competitions/dm-2024-isa-5810-lab-2-homework. The scoring will be given according to your place in the Private Leaderboard ranking: \n",
    "    - **Bottom 40%**: Get 20% of the 30% available for this section.\n",
    "\n",
    "    - **Top 41% - 100%**: Get (0.6N + 1 - x) / (0.6N) * 10 + 20 points, where N is the total number of participants, and x is your rank. (ie. If there are 100 participants and you rank 3rd your score will be (0.6 * 100 + 1 - 3) / (0.6 * 100) * 10 + 20 = 29.67% out of 30%.)   \n",
    "    Submit your last submission **BEFORE the deadline (Nov. 26th, 11:59 pm, Tuesday)**. Make sure to take a screenshot of your position at the end of the competition and store it as '''pic0.png''' under the **img** folder of this repository and rerun the cell **Student Information**.\n",
    "    \n",
    "\n",
    "3. Third: __This part is worth 30% of your grade.__ A report of your work developing the model for the competition (You can use code and comment on it). This report should include what your preprocessing steps, the feature engineering steps and an explanation of your model. You can also mention different things you tried and insights you gained. \n",
    "\n",
    "\n",
    "4. Fourth: __This part is worth 10% of your grade.__ It's hard for us to follow if your code is messy :'(, so please **tidy up your notebook**.\n",
    "\n",
    "\n",
    "Upload your files to your repository then submit the link to it on the corresponding e-learn assignment.\n",
    "\n",
    "Make sure to commit and save your changes to your repository __BEFORE the deadline (Nov. 26th, 11:59 pm, Tuesday)__. "
   ]
  },
  {
   "cell_type": "code",
   "execution_count": 1,
   "metadata": {},
   "outputs": [],
   "source": [
    "### Begin Assignment Here"
   ]
  },
  {
   "cell_type": "code",
   "execution_count": 2,
   "metadata": {},
   "outputs": [
    {
     "ename": "ImportError",
     "evalue": "initialization failed",
     "output_type": "error",
     "traceback": [
      "\u001b[1;31m---------------------------------------------------------------------------\u001b[0m",
      "\u001b[1;31mKeyboardInterrupt\u001b[0m                         Traceback (most recent call last)",
      "\u001b[1;31mKeyboardInterrupt\u001b[0m: ",
      "\nThe above exception was the direct cause of the following exception:\n",
      "\u001b[1;31mImportError\u001b[0m                               Traceback (most recent call last)",
      "Cell \u001b[1;32mIn[2], line 4\u001b[0m\n\u001b[0;32m      1\u001b[0m \u001b[38;5;66;03m#take home 1\u001b[39;00m\n\u001b[0;32m      2\u001b[0m \u001b[38;5;66;03m# Answer here\u001b[39;00m\n\u001b[0;32m      3\u001b[0m \u001b[38;5;28;01mimport\u001b[39;00m \u001b[38;5;21;01mpandas\u001b[39;00m \u001b[38;5;28;01mas\u001b[39;00m \u001b[38;5;21;01mpd\u001b[39;00m\n\u001b[1;32m----> 4\u001b[0m \u001b[38;5;28;01mimport\u001b[39;00m \u001b[38;5;21;01mseaborn\u001b[39;00m \u001b[38;5;28;01mas\u001b[39;00m \u001b[38;5;21;01msns\u001b[39;00m\n\u001b[0;32m      5\u001b[0m \u001b[38;5;28;01mimport\u001b[39;00m \u001b[38;5;21;01mmatplotlib\u001b[39;00m\u001b[38;5;21;01m.\u001b[39;00m\u001b[38;5;21;01mpyplot\u001b[39;00m \u001b[38;5;28;01mas\u001b[39;00m \u001b[38;5;21;01mplt\u001b[39;00m\n\u001b[0;32m      6\u001b[0m \u001b[38;5;28;01mfrom\u001b[39;00m \u001b[38;5;21;01msklearn\u001b[39;00m\u001b[38;5;21;01m.\u001b[39;00m\u001b[38;5;21;01mfeature_extraction\u001b[39;00m\u001b[38;5;21;01m.\u001b[39;00m\u001b[38;5;21;01mtext\u001b[39;00m \u001b[38;5;28;01mimport\u001b[39;00m CountVectorizer\n",
      "File \u001b[1;32m~\\AppData\\Local\\Programs\\Python\\Python312\\Lib\\site-packages\\seaborn\\__init__.py:2\u001b[0m\n\u001b[0;32m      1\u001b[0m \u001b[38;5;66;03m# Import seaborn objects\u001b[39;00m\n\u001b[1;32m----> 2\u001b[0m \u001b[38;5;28;01mfrom\u001b[39;00m \u001b[38;5;21;01m.\u001b[39;00m\u001b[38;5;21;01mrcmod\u001b[39;00m \u001b[38;5;28;01mimport\u001b[39;00m \u001b[38;5;241m*\u001b[39m  \u001b[38;5;66;03m# noqa: F401,F403\u001b[39;00m\n\u001b[0;32m      3\u001b[0m \u001b[38;5;28;01mfrom\u001b[39;00m \u001b[38;5;21;01m.\u001b[39;00m\u001b[38;5;21;01mutils\u001b[39;00m \u001b[38;5;28;01mimport\u001b[39;00m \u001b[38;5;241m*\u001b[39m  \u001b[38;5;66;03m# noqa: F401,F403\u001b[39;00m\n\u001b[0;32m      4\u001b[0m \u001b[38;5;28;01mfrom\u001b[39;00m \u001b[38;5;21;01m.\u001b[39;00m\u001b[38;5;21;01mpalettes\u001b[39;00m \u001b[38;5;28;01mimport\u001b[39;00m \u001b[38;5;241m*\u001b[39m  \u001b[38;5;66;03m# noqa: F401,F403\u001b[39;00m\n",
      "File \u001b[1;32m~\\AppData\\Local\\Programs\\Python\\Python312\\Lib\\site-packages\\seaborn\\rcmod.py:3\u001b[0m\n\u001b[0;32m      1\u001b[0m \u001b[38;5;124;03m\"\"\"Control plot style and scaling using the matplotlib rcParams interface.\"\"\"\u001b[39;00m\n\u001b[0;32m      2\u001b[0m \u001b[38;5;28;01mimport\u001b[39;00m \u001b[38;5;21;01mfunctools\u001b[39;00m\n\u001b[1;32m----> 3\u001b[0m \u001b[38;5;28;01mimport\u001b[39;00m \u001b[38;5;21;01mmatplotlib\u001b[39;00m \u001b[38;5;28;01mas\u001b[39;00m \u001b[38;5;21;01mmpl\u001b[39;00m\n\u001b[0;32m      4\u001b[0m \u001b[38;5;28;01mfrom\u001b[39;00m \u001b[38;5;21;01mcycler\u001b[39;00m \u001b[38;5;28;01mimport\u001b[39;00m cycler\n\u001b[0;32m      5\u001b[0m \u001b[38;5;28;01mfrom\u001b[39;00m \u001b[38;5;21;01m.\u001b[39;00m \u001b[38;5;28;01mimport\u001b[39;00m palettes\n",
      "File \u001b[1;32m~\\AppData\\Local\\Programs\\Python\\Python312\\Lib\\site-packages\\matplotlib\\__init__.py:159\u001b[0m\n\u001b[0;32m    155\u001b[0m \u001b[38;5;28;01mfrom\u001b[39;00m \u001b[38;5;21;01mpackaging\u001b[39;00m\u001b[38;5;21;01m.\u001b[39;00m\u001b[38;5;21;01mversion\u001b[39;00m \u001b[38;5;28;01mimport\u001b[39;00m parse \u001b[38;5;28;01mas\u001b[39;00m parse_version\n\u001b[0;32m    157\u001b[0m \u001b[38;5;66;03m# cbook must import matplotlib only within function\u001b[39;00m\n\u001b[0;32m    158\u001b[0m \u001b[38;5;66;03m# definitions, so it is safe to import from it here.\u001b[39;00m\n\u001b[1;32m--> 159\u001b[0m \u001b[38;5;28;01mfrom\u001b[39;00m \u001b[38;5;21;01m.\u001b[39;00m \u001b[38;5;28;01mimport\u001b[39;00m _api, _version, cbook, _docstring, rcsetup\n\u001b[0;32m    160\u001b[0m \u001b[38;5;28;01mfrom\u001b[39;00m \u001b[38;5;21;01mmatplotlib\u001b[39;00m\u001b[38;5;21;01m.\u001b[39;00m\u001b[38;5;21;01mcbook\u001b[39;00m \u001b[38;5;28;01mimport\u001b[39;00m sanitize_sequence\n\u001b[0;32m    161\u001b[0m \u001b[38;5;28;01mfrom\u001b[39;00m \u001b[38;5;21;01mmatplotlib\u001b[39;00m\u001b[38;5;21;01m.\u001b[39;00m\u001b[38;5;21;01m_api\u001b[39;00m \u001b[38;5;28;01mimport\u001b[39;00m MatplotlibDeprecationWarning\n",
      "File \u001b[1;32m~\\AppData\\Local\\Programs\\Python\\Python312\\Lib\\site-packages\\matplotlib\\rcsetup.py:28\u001b[0m\n\u001b[0;32m     26\u001b[0m \u001b[38;5;28;01mfrom\u001b[39;00m \u001b[38;5;21;01mmatplotlib\u001b[39;00m\u001b[38;5;21;01m.\u001b[39;00m\u001b[38;5;21;01mbackends\u001b[39;00m \u001b[38;5;28;01mimport\u001b[39;00m BackendFilter, backend_registry\n\u001b[0;32m     27\u001b[0m \u001b[38;5;28;01mfrom\u001b[39;00m \u001b[38;5;21;01mmatplotlib\u001b[39;00m\u001b[38;5;21;01m.\u001b[39;00m\u001b[38;5;21;01mcbook\u001b[39;00m \u001b[38;5;28;01mimport\u001b[39;00m ls_mapper\n\u001b[1;32m---> 28\u001b[0m \u001b[38;5;28;01mfrom\u001b[39;00m \u001b[38;5;21;01mmatplotlib\u001b[39;00m\u001b[38;5;21;01m.\u001b[39;00m\u001b[38;5;21;01mcolors\u001b[39;00m \u001b[38;5;28;01mimport\u001b[39;00m Colormap, is_color_like\n\u001b[0;32m     29\u001b[0m \u001b[38;5;28;01mfrom\u001b[39;00m \u001b[38;5;21;01mmatplotlib\u001b[39;00m\u001b[38;5;21;01m.\u001b[39;00m\u001b[38;5;21;01m_fontconfig_pattern\u001b[39;00m \u001b[38;5;28;01mimport\u001b[39;00m parse_fontconfig_pattern\n\u001b[0;32m     30\u001b[0m \u001b[38;5;28;01mfrom\u001b[39;00m \u001b[38;5;21;01mmatplotlib\u001b[39;00m\u001b[38;5;21;01m.\u001b[39;00m\u001b[38;5;21;01m_enums\u001b[39;00m \u001b[38;5;28;01mimport\u001b[39;00m JoinStyle, CapStyle\n",
      "File \u001b[1;32m~\\AppData\\Local\\Programs\\Python\\Python312\\Lib\\site-packages\\matplotlib\\colors.py:57\u001b[0m\n\u001b[0;32m     55\u001b[0m \u001b[38;5;28;01mimport\u001b[39;00m \u001b[38;5;21;01mmatplotlib\u001b[39;00m \u001b[38;5;28;01mas\u001b[39;00m \u001b[38;5;21;01mmpl\u001b[39;00m\n\u001b[0;32m     56\u001b[0m \u001b[38;5;28;01mimport\u001b[39;00m \u001b[38;5;21;01mnumpy\u001b[39;00m \u001b[38;5;28;01mas\u001b[39;00m \u001b[38;5;21;01mnp\u001b[39;00m\n\u001b[1;32m---> 57\u001b[0m \u001b[38;5;28;01mfrom\u001b[39;00m \u001b[38;5;21;01mmatplotlib\u001b[39;00m \u001b[38;5;28;01mimport\u001b[39;00m _api, _cm, cbook, scale\n\u001b[0;32m     58\u001b[0m \u001b[38;5;28;01mfrom\u001b[39;00m \u001b[38;5;21;01m.\u001b[39;00m\u001b[38;5;21;01m_color_data\u001b[39;00m \u001b[38;5;28;01mimport\u001b[39;00m BASE_COLORS, TABLEAU_COLORS, CSS4_COLORS, XKCD_COLORS\n\u001b[0;32m     61\u001b[0m \u001b[38;5;28;01mclass\u001b[39;00m \u001b[38;5;21;01m_ColorMapping\u001b[39;00m(\u001b[38;5;28mdict\u001b[39m):\n",
      "File \u001b[1;32m~\\AppData\\Local\\Programs\\Python\\Python312\\Lib\\site-packages\\matplotlib\\scale.py:22\u001b[0m\n\u001b[0;32m     20\u001b[0m \u001b[38;5;28;01mimport\u001b[39;00m \u001b[38;5;21;01mmatplotlib\u001b[39;00m \u001b[38;5;28;01mas\u001b[39;00m \u001b[38;5;21;01mmpl\u001b[39;00m\n\u001b[0;32m     21\u001b[0m \u001b[38;5;28;01mfrom\u001b[39;00m \u001b[38;5;21;01mmatplotlib\u001b[39;00m \u001b[38;5;28;01mimport\u001b[39;00m _api, _docstring\n\u001b[1;32m---> 22\u001b[0m \u001b[38;5;28;01mfrom\u001b[39;00m \u001b[38;5;21;01mmatplotlib\u001b[39;00m\u001b[38;5;21;01m.\u001b[39;00m\u001b[38;5;21;01mticker\u001b[39;00m \u001b[38;5;28;01mimport\u001b[39;00m (\n\u001b[0;32m     23\u001b[0m     NullFormatter, ScalarFormatter, LogFormatterSciNotation, LogitFormatter,\n\u001b[0;32m     24\u001b[0m     NullLocator, LogLocator, AutoLocator, AutoMinorLocator,\n\u001b[0;32m     25\u001b[0m     SymmetricalLogLocator, AsinhLocator, LogitLocator)\n\u001b[0;32m     26\u001b[0m \u001b[38;5;28;01mfrom\u001b[39;00m \u001b[38;5;21;01mmatplotlib\u001b[39;00m\u001b[38;5;21;01m.\u001b[39;00m\u001b[38;5;21;01mtransforms\u001b[39;00m \u001b[38;5;28;01mimport\u001b[39;00m Transform, IdentityTransform\n\u001b[0;32m     29\u001b[0m \u001b[38;5;28;01mclass\u001b[39;00m \u001b[38;5;21;01mScaleBase\u001b[39;00m:\n",
      "File \u001b[1;32m~\\AppData\\Local\\Programs\\Python\\Python312\\Lib\\site-packages\\matplotlib\\ticker.py:144\u001b[0m\n\u001b[0;32m    142\u001b[0m \u001b[38;5;28;01mimport\u001b[39;00m \u001b[38;5;21;01mmatplotlib\u001b[39;00m \u001b[38;5;28;01mas\u001b[39;00m \u001b[38;5;21;01mmpl\u001b[39;00m\n\u001b[0;32m    143\u001b[0m \u001b[38;5;28;01mfrom\u001b[39;00m \u001b[38;5;21;01mmatplotlib\u001b[39;00m \u001b[38;5;28;01mimport\u001b[39;00m _api, cbook\n\u001b[1;32m--> 144\u001b[0m \u001b[38;5;28;01mfrom\u001b[39;00m \u001b[38;5;21;01mmatplotlib\u001b[39;00m \u001b[38;5;28;01mimport\u001b[39;00m transforms \u001b[38;5;28;01mas\u001b[39;00m mtransforms\n\u001b[0;32m    146\u001b[0m _log \u001b[38;5;241m=\u001b[39m logging\u001b[38;5;241m.\u001b[39mgetLogger(\u001b[38;5;18m__name__\u001b[39m)\n\u001b[0;32m    148\u001b[0m __all__ \u001b[38;5;241m=\u001b[39m (\u001b[38;5;124m'\u001b[39m\u001b[38;5;124mTickHelper\u001b[39m\u001b[38;5;124m'\u001b[39m, \u001b[38;5;124m'\u001b[39m\u001b[38;5;124mFormatter\u001b[39m\u001b[38;5;124m'\u001b[39m, \u001b[38;5;124m'\u001b[39m\u001b[38;5;124mFixedFormatter\u001b[39m\u001b[38;5;124m'\u001b[39m,\n\u001b[0;32m    149\u001b[0m            \u001b[38;5;124m'\u001b[39m\u001b[38;5;124mNullFormatter\u001b[39m\u001b[38;5;124m'\u001b[39m, \u001b[38;5;124m'\u001b[39m\u001b[38;5;124mFuncFormatter\u001b[39m\u001b[38;5;124m'\u001b[39m, \u001b[38;5;124m'\u001b[39m\u001b[38;5;124mFormatStrFormatter\u001b[39m\u001b[38;5;124m'\u001b[39m,\n\u001b[0;32m    150\u001b[0m            \u001b[38;5;124m'\u001b[39m\u001b[38;5;124mStrMethodFormatter\u001b[39m\u001b[38;5;124m'\u001b[39m, \u001b[38;5;124m'\u001b[39m\u001b[38;5;124mScalarFormatter\u001b[39m\u001b[38;5;124m'\u001b[39m, \u001b[38;5;124m'\u001b[39m\u001b[38;5;124mLogFormatter\u001b[39m\u001b[38;5;124m'\u001b[39m,\n\u001b[1;32m   (...)\u001b[0m\n\u001b[0;32m    156\u001b[0m            \u001b[38;5;124m'\u001b[39m\u001b[38;5;124mMultipleLocator\u001b[39m\u001b[38;5;124m'\u001b[39m, \u001b[38;5;124m'\u001b[39m\u001b[38;5;124mMaxNLocator\u001b[39m\u001b[38;5;124m'\u001b[39m, \u001b[38;5;124m'\u001b[39m\u001b[38;5;124mAutoMinorLocator\u001b[39m\u001b[38;5;124m'\u001b[39m,\n\u001b[0;32m    157\u001b[0m            \u001b[38;5;124m'\u001b[39m\u001b[38;5;124mSymmetricalLogLocator\u001b[39m\u001b[38;5;124m'\u001b[39m, \u001b[38;5;124m'\u001b[39m\u001b[38;5;124mAsinhLocator\u001b[39m\u001b[38;5;124m'\u001b[39m, \u001b[38;5;124m'\u001b[39m\u001b[38;5;124mLogitLocator\u001b[39m\u001b[38;5;124m'\u001b[39m)\n",
      "File \u001b[1;32m~\\AppData\\Local\\Programs\\Python\\Python312\\Lib\\site-packages\\matplotlib\\transforms.py:49\u001b[0m\n\u001b[0;32m     46\u001b[0m \u001b[38;5;28;01mfrom\u001b[39;00m \u001b[38;5;21;01mnumpy\u001b[39;00m\u001b[38;5;21;01m.\u001b[39;00m\u001b[38;5;21;01mlinalg\u001b[39;00m \u001b[38;5;28;01mimport\u001b[39;00m inv\n\u001b[0;32m     48\u001b[0m \u001b[38;5;28;01mfrom\u001b[39;00m \u001b[38;5;21;01mmatplotlib\u001b[39;00m \u001b[38;5;28;01mimport\u001b[39;00m _api\n\u001b[1;32m---> 49\u001b[0m \u001b[38;5;28;01mfrom\u001b[39;00m \u001b[38;5;21;01mmatplotlib\u001b[39;00m\u001b[38;5;21;01m.\u001b[39;00m\u001b[38;5;21;01m_path\u001b[39;00m \u001b[38;5;28;01mimport\u001b[39;00m (\n\u001b[0;32m     50\u001b[0m     affine_transform, count_bboxes_overlapping_bbox, update_path_extents)\n\u001b[0;32m     51\u001b[0m \u001b[38;5;28;01mfrom\u001b[39;00m \u001b[38;5;21;01m.\u001b[39;00m\u001b[38;5;21;01mpath\u001b[39;00m \u001b[38;5;28;01mimport\u001b[39;00m Path\n\u001b[0;32m     53\u001b[0m DEBUG \u001b[38;5;241m=\u001b[39m \u001b[38;5;28;01mFalse\u001b[39;00m\n",
      "\u001b[1;31mImportError\u001b[0m: initialization failed"
     ]
    }
   ],
   "source": [
    "#take home 1\n",
    "# Answer here\n",
    "import pandas as pd\n",
    "import seaborn as sns\n",
    "import matplotlib.pyplot as plt\n",
    "from sklearn.feature_extraction.text import CountVectorizer\n",
    "\n",
    "# Assuming train_df and test_df are already loaded as DataFrames\n",
    "# And they contain a 'text' column for text data\n",
    "\n",
    "# 1. Extract text data\n",
    "train_texts = train_df['text']  # Text data from the training set\n",
    "test_texts = test_df['text']    # Text data from the test set\n",
    "\n",
    "# 2. Use CountVectorizer to compute term frequencies\n",
    "count_vect = CountVectorizer()\n",
    "train_term_matrix = count_vect.fit_transform(train_texts)  # Term frequency matrix for the training set\n",
    "test_term_matrix = count_vect.transform(test_texts)        # Term frequency matrix for the test set\n",
    "\n",
    "# 3. Compute the total frequency of each term\n",
    "train_term_frequencies = train_term_matrix.sum(axis=0).A1  # Term frequencies for the training set\n",
    "test_term_frequencies = test_term_matrix.sum(axis=0).A1    # Term frequencies for the test set\n",
    "\n",
    "# 4. Extract words and their frequencies, and sort them by frequency\n",
    "feature_names = count_vect.get_feature_names_out()\n",
    "train_freq_df = pd.DataFrame({'word': feature_names, 'frequency': train_term_frequencies})\n",
    "test_freq_df = pd.DataFrame({'word': feature_names, 'frequency': test_term_frequencies})\n",
    "\n",
    "# Sort by frequency and get the top 30 words\n",
    "train_top30 = train_freq_df.nlargest(30, 'frequency')\n",
    "test_top30 = test_freq_df.nlargest(30, 'frequency')\n",
    "\n",
    "# 5. Plot the top 30 word frequencies in the training set\n",
    "plt.figure(figsize=(16, 6))\n",
    "sns.barplot(x=train_top30['word'], y=train_top30['frequency'])\n",
    "plt.xticks(rotation=45, ha='right')\n",
    "plt.xlabel(\"Words\")\n",
    "plt.ylabel(\"Frequency\")\n",
    "plt.title(\"Top 30 Word Frequencies in Train Dataset\")\n",
    "plt.show()\n",
    "\n",
    "# 6. Plot the top 30 word frequencies in the test set\n",
    "plt.figure(figsize=(16, 6))\n",
    "sns.barplot(x=test_top30['word'], y=test_top30['frequency'])\n",
    "plt.xticks(rotation=45, ha='right')\n",
    "plt.xlabel(\"Words\")\n",
    "plt.ylabel(\"Frequency\")\n",
    "plt.title(\"Top 30 Word Frequencies in Test Dataset\")\n",
    "plt.show()"
   ]
  },
  {
   "cell_type": "code",
   "execution_count": null,
   "metadata": {},
   "outputs": [],
   "source": [
    "#take home 2\n",
    "# Answer here\n",
    "from sklearn.feature_extraction.text import TfidfVectorizer\n",
    "import nltk\n",
    "import pandas as pd\n",
    "\n",
    "# 假设数据已经加载到 train_df 中\n",
    "# train_df = pd.read_csv('train5.csv')  # 如果需要，加载数据\n",
    "\n",
    "# 创建具有 1000 个特征的 TF-IDF 分析器\n",
    "tfidf_1000 = TfidfVectorizer(max_features=1000, tokenizer=nltk.word_tokenize)\n",
    "\n",
    "# 对训练数据进行拟合\n",
    "tfidf_1000.fit(train_df['text'])\n",
    "\n",
    "# 将训练数据转换为 TF-IDF 特征\n",
    "train_data_TFIDF_features_1000 = tfidf_1000.transform(train_df['text'])\n",
    "\n",
    "# 获取特征名称\n",
    "feature_names = tfidf_1000.get_feature_names_out()\n",
    "\n",
    "# 查看特征名称索引 100 到 110 的内容\n",
    "print(\"Feature names from index 100 to 110:\", feature_names[100:111])\n"
   ]
  },
  {
   "cell_type": "code",
   "execution_count": null,
   "metadata": {},
   "outputs": [],
   "source": [
    "#take home 3\n",
    "# Answer here\n",
    "Fear is the most accurately predicted class, with 76 correct predictions, indicating that the model performs well in identifying this emotion.\n",
    "Anger and Sadness have a noticeable number of misclassifications, especially where anger is misclassified as fear (18 times) and sadness as fear (13 times). This suggests some overlap or similarity in features that the model finds confusing between these emotions.\n",
    "Joy has a few errors distributed across other emotions, particularly with predictions as fear (9 times)."
   ]
  },
  {
   "cell_type": "code",
   "execution_count": null,
   "metadata": {},
   "outputs": [],
   "source": [
    "#take home 4\n",
    "# Answer here\n",
    "from sklearn.naive_bayes import MultinomialNB\n",
    "from sklearn.metrics import accuracy_score, classification_report\n",
    "\n",
    "NB_model = MultinomialNB()\n",
    "\n",
    "NB_model.fit(X_train, y_train)\n",
    "\n",
    "# Predictions on the training set\n",
    "y_train_pred = NB_model.predict(X_train)\n",
    "\n",
    "# Predictions on the test set\n",
    "y_test_pred = NB_model.predict(X_test)\n",
    "\n",
    "# Calculate and print accuracy for both training and testing sets\n",
    "train_accuracy = accuracy_score(y_train, y_train_pred)\n",
    "test_accuracy = accuracy_score(y_test, y_test_pred)\n",
    "\n",
    "print(f\"Train Accuracy: {train_accuracy}\")\n",
    "print(f\"Test Accuracy: {test_accuracy}\")\n",
    "\n",
    "# Detailed classification report on test data\n",
    "print(\"Classification Report on Test Set:\")\n",
    "print(classification_report(y_test, y_test_pred))"
   ]
  },
  {
   "cell_type": "code",
   "execution_count": null,
   "metadata": {},
   "outputs": [],
   "source": [
    "#take home 5\n",
    "# Answer here\n",
    "Model Complexity:\n",
    "\n",
    "Naive Bayes: This is a low-variance, high-bias model due to its strong assumption of feature independence. It’s simple, which makes it less flexible but generally robust to overfitting.\n",
    "Decision Trees: These are high-variance, low-bias models capable of capturing complex patterns, but this complexity often leads to overfitting, particularly when the tree depth is not limited.\n",
    "Independence Assumption:\n",
    "\n",
    "Naive Bayes benefits when features are roughly independent, as the model assumes. Although real-world text data doesn’t strictly meet this assumption, the model’s simplicity helps it handle moderate dependencies without becoming overly complex.\n",
    "Decision Trees, on the other hand, do not assume feature independence and instead seek to capture detailed interactions between features. While this flexibility is powerful, it requires larger datasets or regularization techniques to prevent overfitting.\n",
    "Interpretability of Results:\n",
    "\n",
    "The high training accuracy of the Decision Tree, combined with its lower test accuracy, suggests that it is “memorizing” the training data rather than learning generalizable patterns.\n",
    "Naive Bayes, with its simpler approach, provides more consistent results between training and testing. The lower training accuracy of Naive Bayes reflects its general tendency to create broad decision boundaries, which can be advantageous in high-dimensional settings like text classification."
   ]
  },
  {
   "cell_type": "code",
   "execution_count": null,
   "metadata": {},
   "outputs": [],
   "source": [
    "#take home 6\n",
    "# Answer here\n",
    "import matplotlib.pyplot as plt\n",
    "\n",
    "def plot_train_valid_accuracy(df):\n",
    "    # Plot Training and Validation Accuracy\n",
    "    plt.figure(figsize=(12, 5))\n",
    "    \n",
    "    # Plot accuracy\n",
    "    plt.subplot(1, 2, 1)\n",
    "    plt.plot(df['epoch'], df['accuracy'], label='Training Accuracy', color='blue')\n",
    "    plt.plot(df['epoch'], df['val_accuracy'], label='Validation Accuracy', color='red')\n",
    "    plt.xlabel('Epoch')\n",
    "    plt.ylabel('Accuracy')\n",
    "    plt.title('Training and Validation Accuracy')\n",
    "    plt.legend()\n",
    "    plt.grid(True)\n",
    "    \n",
    "    # Plot loss\n",
    "    plt.subplot(1, 2, 2)\n",
    "    plt.plot(df['epoch'], df['loss'], label='Training Loss', color='blue')\n",
    "    plt.plot(df['epoch'], df['val_loss'], label='Validation Loss', color='red')\n",
    "    plt.xlabel('Epoch')\n",
    "    plt.ylabel('Loss')\n",
    "    plt.title('Training and Validation Loss')\n",
    "    plt.legend()\n",
    "    plt.grid(True)\n",
    "    \n",
    "    plt.tight_layout()\n",
    "    plt.show()\n",
    "\n",
    "plot_train_valid_accuracy(training_log)"
   ]
  },
  {
   "cell_type": "code",
   "execution_count": null,
   "metadata": {},
   "outputs": [],
   "source": [
    "#take home 7\n",
    "# Answer here\n",
    "word2tfidf = dict(zip(TFIDF_1000.get_feature_names_out(), TFIDF_1000.idf_))\n",
    "\n",
    "# Generate weighted sentence vector\n",
    "sentence = \"I am very happy today\"\n",
    "words = sentence.split()\n",
    "vectors = [w2v_google_model[word] * word2tfidf.get(word, 1) for word in words if word in w2v_google_model]\n",
    "\n",
    "if vectors:\n",
    "    sentence_vector = np.mean(vectors, axis=0)\n",
    "else:\n",
    "    sentence_vector = np.zeros(w2v_google_model.vector_size)\n",
    "\n",
    "print(\"Weighted sentence vector:\", sentence_vector)"
   ]
  },
  {
   "cell_type": "code",
   "execution_count": null,
   "metadata": {},
   "outputs": [],
   "source": [
    "#take home 8\n",
    "# Answer here\n",
    "word_list = ['angry', 'happy', 'sad', 'fear']\n",
    "\n",
    "topn = 15\n",
    "angry_words = ['angry'] + [word_ for word_, sim_ in w2v_google_model.most_similar('angry', topn=topn)]        \n",
    "happy_words = ['happy'] + [word_ for word_, sim_ in w2v_google_model.most_similar('happy', topn=topn)]\n",
    "sad_words = ['sad'] + [word_ for word_, sim_ in w2v_google_model.most_similar('sad', topn=topn)]        \n",
    "fear_words = ['fear'] + [word_ for word_, sim_ in w2v_google_model.most_similar('fear', topn=topn)]        \n",
    "\n",
    "print('angry_words: ', angry_words)\n",
    "print('happy_words: ', happy_words)\n",
    "print('sad_words: ', sad_words)\n",
    "print('fear_words: ', fear_words)\n",
    "\n",
    "target_words = angry_words + happy_words + sad_words + fear_words\n",
    "print('\\ntarget words: ')\n",
    "print(target_words)\n",
    "print('total # of target words: ', len(target_words))\n",
    "\n",
    "print('\\ncolor list:')\n",
    "cn = topn + 1\n",
    "color = ['b'] * cn + ['g'] * cn + ['r'] * cn + ['y'] * cn\n",
    "print(color)"
   ]
  },
  {
   "cell_type": "code",
   "execution_count": null,
   "metadata": {},
   "outputs": [],
   "source": [
    "#take home 9\n",
    "# Answer here\n",
    "import ollama\n",
    "\n",
    "user_message = 'Can you tell me what deep learning is? Please give a brief summary in markdown format.'\n",
    "\n",
    "response = ollama.chat(model='llama3.2', messages=[\n",
    "    {\n",
    "        'role': 'user',\n",
    "        'content': user_message\n",
    "    },\n",
    "])\n",
    "display(Markdown(response['message']['content']))"
   ]
  },
  {
   "cell_type": "code",
   "execution_count": null,
   "metadata": {},
   "outputs": [],
   "source": [
    "#take home 10\n",
    "# Answer here\n",
    "response3 = ollama.chat(model='llava-phi3', messages=[\n",
    "    {\n",
    "        'role': 'user',\n",
    "        'content': 'What is this image about?',\n",
    "        'images': ['./pics/cake_stor.jpg'] #Image with the cat\n",
    "    },\n",
    "])\n",
    "\n",
    "display(Markdown(response3['message']['content']))"
   ]
  },
  {
   "cell_type": "code",
   "execution_count": null,
   "metadata": {},
   "outputs": [],
   "source": [
    "#take home 11\n",
    "# Answer here\n",
    "import ollama\n",
    "from langchain.text_splitter import RecursiveCharacterTextSplitter\n",
    "from langchain_community.document_loaders.text import TextLoader\n",
    "\n",
    "from langchain_community.document_loaders import WebBaseLoader, PyPDFLoader\n",
    "from langchain_community.vectorstores import Chroma\n",
    "from langchain_community.embeddings import OllamaEmbeddings\n",
    "from IPython.display import display, Markdown\n",
    "\n",
    "llm_model = \"llama3.2\"  # You can change this to a preferred model\n",
    "\n",
    "# Function to load, split, and retrieve documents from multiple sources\n",
    "def load_and_retrieve_docs(sources, source_type=\"url\"):\n",
    "    documents = []\n",
    "\n",
    "    for source in sources:\n",
    "        if source_type == \"url\":\n",
    "            # Load documents from URLs\n",
    "            loader = WebBaseLoader(web_paths=(source,), bs_kwargs=dict())\n",
    "        elif source_type == \"text\":\n",
    "            # Load documents from local text files\n",
    "            loader = TextFileLoader(filepath=source)\n",
    "        elif source_type == \"pdf\":\n",
    "            # Load documents from PDF files\n",
    "            loader = PyPDFLoader(filepath=source)\n",
    "        else:\n",
    "            raise ValueError(\"Unsupported source type. Use 'url', 'text', or 'pdf'.\")\n",
    "\n",
    "        docs = loader.load()\n",
    "        documents.extend(docs)\n",
    "\n",
    "    # Split documents into manageable chunks\n",
    "    text_splitter = RecursiveCharacterTextSplitter(chunk_size=1000, chunk_overlap=200)\n",
    "    splits = text_splitter.split_documents(documents)\n",
    "\n",
    "    # Generate embeddings and create a vector store\n",
    "    embeddings = OllamaEmbeddings(model=llm_model)\n",
    "    vectorstore = Chroma.from_documents(documents=splits, embedding=embeddings)\n",
    "    return vectorstore.as_retriever()\n",
    "\n",
    "# Define sources (replace these with your own URLs, text files, or PDFs)\n",
    "url_sources = [\n",
    "    \"https://www.ibm.com/topics/large-language-models\",\n",
    "    \"https://en.wikipedia.org/wiki/Natural_language_processing\",\n",
    "    \"https://towardsdatascience.com/transformers-141e32e69591\"\n",
    "]\n",
    "pdf_sources = [\"file1.pdf\", \"file2.pdf\", \"file3.pdf\"]  # Replace with actual PDF file paths\n",
    "text_sources = [\"file1.txt\", \"file2.txt\", \"file3.txt\"]  # Replace with actual text file paths\n",
    "\n",
    "# Create retrievers\n",
    "url_retriever = load_and_retrieve_docs(url_sources, source_type=\"url\")\n",
    "# pdf_retriever = load_and_retrieve_docs(pdf_sources, source_type=\"pdf\")\n",
    "# text_retriever = load_and_retrieve_docs(text_sources, source_type=\"text\")\n",
    "\n",
    "# Function to format retrieved documents\n",
    "def format_docs(docs):\n",
    "    return \"\\n\\n\".join(doc.page_content for doc in docs)\n",
    "\n",
    "# Define the Ollama LLM function\n",
    "def ollama_llm(question, context):\n",
    "    formatted_prompt = f\"Question: {question}\\n\\nContext: {context}\"\n",
    "    response = ollama.chat(model=llm_model, messages=[{'role': 'user', 'content': formatted_prompt}])\n",
    "    return response['message']['content']\n",
    "\n",
    "# Define the RAG chain\n",
    "def rag_chain(question, retriever):\n",
    "    retrieved_docs = retriever.invoke(question)\n",
    "    formatted_context = format_docs(retrieved_docs)\n",
    "    return ollama_llm(question, formatted_context)\n",
    "\n",
    "# Use the RAG chain with one of the retrievers\n",
    "result = rag_chain(\"What are the key features of transformers in NLP?\", retriever=url_retriever)\n",
    "display(Markdown(result))\n"
   ]
  },
  {
   "cell_type": "code",
   "execution_count": null,
   "metadata": {},
   "outputs": [],
   "source": [
    "#take home 6\n",
    "# Answer here\n",
    "import matplotlib.pyplot as plt\n",
    "\n",
    "def plot_train_valid_accuracy(df):\n",
    "    # Plot Training and Validation Accuracy\n",
    "    plt.figure(figsize=(12, 5))\n",
    "    \n",
    "    # Plot accuracy\n",
    "    plt.subplot(1, 2, 1)\n",
    "    plt.plot(df['epoch'], df['accuracy'], label='Training Accuracy', color='blue')\n",
    "    plt.plot(df['epoch'], df['val_accuracy'], label='Validation Accuracy', color='red')\n",
    "    plt.xlabel('Epoch')\n",
    "    plt.ylabel('Accuracy')\n",
    "    plt.title('Training and Validation Accuracy')\n",
    "    plt.legend()\n",
    "    plt.grid(True)\n",
    "    \n",
    "    # Plot loss\n",
    "    plt.subplot(1, 2, 2)\n",
    "    plt.plot(df['epoch'], df['loss'], label='Training Loss', color='blue')\n",
    "    plt.plot(df['epoch'], df['val_loss'], label='Validation Loss', color='red')\n",
    "    plt.xlabel('Epoch')\n",
    "    plt.ylabel('Loss')\n",
    "    plt.title('Training and Validation Loss')\n",
    "    plt.legend()\n",
    "    plt.grid(True)\n",
    "    \n",
    "    plt.tight_layout()\n",
    "    plt.show()\n",
    "\n",
    "plot_train_valid_accuracy(training_log)"
   ]
  },
  {
   "cell_type": "code",
   "execution_count": null,
   "metadata": {},
   "outputs": [],
   "source": [
    "#take home 7\n",
    "# Answer here\n",
    "# Doc2Vec is specifically designed for sentences or documents and is the most direct approach.\n",
    "\n",
    "from gensim.models import Doc2Vec\n",
    "from gensim.models.doc2vec import TaggedDocument\n",
    "\n",
    "# Example corpus: List of sentences\n",
    "sentences = [\n",
    "    \"I love programming.\",\n",
    "    \"Artificial Intelligence is fascinating.\",\n",
    "    \"Cats are cute.\",\n",
    "    \"Python is a great programming language.\",\n",
    "    \"I hate bugs in my code.\",\n",
    "    \"Debugging is frustrating.\",\n",
    "    \"Dogs are loyal.\",\n",
    "    \"Java is also a popular language.\"\n",
    "]\n",
    "\n",
    "# Preprocessing: Tagging each sentence (required by Doc2Vec)\n",
    "tagged_data = [TaggedDocument(words=sentence.split(), tags=[str(i)]) for i, sentence in enumerate(sentences)]\n",
    "\n",
    "# Train a Doc2Vec model\n",
    "model = Doc2Vec(vector_size=50,   # Size of sentence embedding\n",
    "                window=2,         # Context window\n",
    "                min_count=1,      # Minimum word frequency\n",
    "                workers=4,        # Number of threads\n",
    "                epochs=20)        # Number of iterations\n",
    "\n",
    "# Build vocabulary and train the model\n",
    "model.build_vocab(tagged_data)\n",
    "model.train(tagged_data, total_examples=model.corpus_count, epochs=model.epochs)\n",
    "\n",
    "# Get vector for a sentence\n",
    "sentence_vector = model.infer_vector(\"I love programming.\".split())\n",
    "\n",
    "print(\"Sentence vector:\", sentence_vector)"
   ]
  },
  {
   "cell_type": "code",
   "execution_count": null,
   "metadata": {},
   "outputs": [],
   "source": [
    "#take home 8\n",
    "# Answer here\n",
    "word_list = ['angry', 'happy', 'sad', 'fear']\n",
    "\n",
    "topn = 15\n",
    "angry_words = ['angry'] + [word_ for word_, sim_ in w2v_google_model.most_similar('angry', topn=topn)]        \n",
    "happy_words = ['happy'] + [word_ for word_, sim_ in w2v_google_model.most_similar('happy', topn=topn)]\n",
    "sad_words = ['sad'] + [word_ for word_, sim_ in w2v_google_model.most_similar('sad', topn=topn)]        \n",
    "fear_words = ['fear'] + [word_ for word_, sim_ in w2v_google_model.most_similar('fear', topn=topn)]        \n",
    "\n",
    "print('angry_words: ', angry_words)\n",
    "print('happy_words: ', happy_words)\n",
    "print('sad_words: ', sad_words)\n",
    "print('fear_words: ', fear_words)\n",
    "\n",
    "target_words = angry_words + happy_words + sad_words + fear_words\n",
    "print('\\ntarget words: ')\n",
    "print(target_words)\n",
    "print('total # of target words: ', len(target_words))\n",
    "\n",
    "print('\\ncolor list:')\n",
    "cn = topn + 1\n",
    "color = ['b'] * cn + ['g'] * cn + ['r'] * cn + ['y'] * cn\n",
    "print(color)"
   ]
  },
  {
   "cell_type": "code",
   "execution_count": null,
   "metadata": {},
   "outputs": [],
   "source": [
    "%matplotlib inline\n",
    "import matplotlib.pyplot as plt\n",
    "from sklearn.manifold import TSNE\n",
    "\n",
    "## w2v model\n",
    "model = w2v_google_model\n",
    "\n",
    "## prepare training word vectors\n",
    "size = 200\n",
    "target_size = len(target_words)\n",
    "all_word = list(model.index_to_key)\n",
    "word_train = target_words + all_word[:size]\n",
    "X_train = model[word_train]\n",
    "\n",
    "## t-SNE model\n",
    "tsne = TSNE(n_components=2, metric='cosine', random_state=28)\n",
    "\n",
    "## training\n",
    "X_tsne = tsne.fit_transform(X_train)\n",
    "\n",
    "## plot the result\n",
    "plt.figure(figsize=(7.5, 7.5), dpi=115)\n",
    "plt.scatter(X_tsne[:target_size, 0], X_tsne[:target_size, 1], c=color)\n",
    "for label, x, y in zip(target_words, X_tsne[:target_size, 0], X_tsne[:target_size, 1]):\n",
    "    plt.annotate(label, xy=(x,y), xytext=(0,0),  textcoords='offset points')\n",
    "plt.show()"
   ]
  },
  {
   "cell_type": "code",
   "execution_count": null,
   "metadata": {},
   "outputs": [],
   "source": [
    "#take home 9\n",
    "# Answer here\n",
    "import ollama\n",
    "\n",
    "user_message = 'Can you tell me what deep learning is? Please give a brief summary in markdown format.'\n",
    "\n",
    "response = ollama.chat(model='llama3.2', messages=[\n",
    "    {\n",
    "        'role': 'user',\n",
    "        'content': user_message\n",
    "    },\n",
    "])\n",
    "display(Markdown(response['message']['content']))"
   ]
  },
  {
   "cell_type": "code",
   "execution_count": null,
   "metadata": {},
   "outputs": [],
   "source": [
    "#take home 10\n",
    "# Answer here\n",
    "response3 = ollama.chat(model='llava-phi3', messages=[\n",
    "    {\n",
    "        'role': 'user',\n",
    "        'content': 'What is this image about?',\n",
    "        'images': ['./pics/cake_stor.jpg'] #Image with the cat\n",
    "    },\n",
    "])\n",
    "\n",
    "display(Markdown(response3['message']['content']))"
   ]
  },
  {
   "cell_type": "code",
   "execution_count": null,
   "metadata": {},
   "outputs": [],
   "source": [
    "#take home 11\n",
    "# Answer here\n",
    "import ollama\n",
    "from langchain.text_splitter import RecursiveCharacterTextSplitter\n",
    "from langchain_community.document_loaders.text import TextLoader\n",
    "\n",
    "from langchain_community.document_loaders import WebBaseLoader, PyPDFLoader\n",
    "from langchain_community.vectorstores import Chroma\n",
    "from langchain_community.embeddings import OllamaEmbeddings\n",
    "from IPython.display import display, Markdown\n",
    "\n",
    "llm_model = \"llama3.2\"  # You can change this to a preferred model\n",
    "\n",
    "# Function to load, split, and retrieve documents from multiple sources\n",
    "def load_and_retrieve_docs(sources, source_type=\"url\"):\n",
    "    documents = []\n",
    "\n",
    "    for source in sources:\n",
    "        if source_type == \"url\":\n",
    "            # Load documents from URLs\n",
    "            loader = WebBaseLoader(web_paths=(source,), bs_kwargs=dict())\n",
    "        elif source_type == \"text\":\n",
    "            # Load documents from local text files\n",
    "            loader = TextFileLoader(filepath=source)\n",
    "        elif source_type == \"pdf\":\n",
    "            # Load documents from PDF files\n",
    "            loader = PyPDFLoader(filepath=source)\n",
    "        else:\n",
    "            raise ValueError(\"Unsupported source type. Use 'url', 'text', or 'pdf'.\")\n",
    "\n",
    "        docs = loader.load()\n",
    "        documents.extend(docs)\n",
    "\n",
    "    # Split documents into manageable chunks\n",
    "    text_splitter = RecursiveCharacterTextSplitter(chunk_size=1000, chunk_overlap=200)\n",
    "    splits = text_splitter.split_documents(documents)\n",
    "\n",
    "    # Generate embeddings and create a vector store\n",
    "    embeddings = OllamaEmbeddings(model=llm_model)\n",
    "    vectorstore = Chroma.from_documents(documents=splits, embedding=embeddings)\n",
    "    return vectorstore.as_retriever()\n",
    "\n",
    "# Define sources (replace these with your own URLs, text files, or PDFs)\n",
    "url_sources = [\n",
    "    \"https://www.ibm.com/topics/large-language-models\",\n",
    "    \"https://en.wikipedia.org/wiki/Natural_language_processing\",\n",
    "    \"https://towardsdatascience.com/transformers-141e32e69591\"\n",
    "]\n",
    "pdf_sources = [\"file1.pdf\", \"file2.pdf\", \"file3.pdf\"]  # Replace with actual PDF file paths\n",
    "text_sources = [\"file1.txt\", \"file2.txt\", \"file3.txt\"]  # Replace with actual text file paths\n",
    "\n",
    "# Create retrievers\n",
    "url_retriever = load_and_retrieve_docs(url_sources, source_type=\"url\")\n",
    "# pdf_retriever = load_and_retrieve_docs(pdf_sources, source_type=\"pdf\")\n",
    "# text_retriever = load_and_retrieve_docs(text_sources, source_type=\"text\")\n",
    "\n",
    "# Function to format retrieved documents\n",
    "def format_docs(docs):\n",
    "    return \"\\n\\n\".join(doc.page_content for doc in docs)\n",
    "\n",
    "# Define the Ollama LLM function\n",
    "def ollama_llm(question, context):\n",
    "    formatted_prompt = f\"Question: {question}\\n\\nContext: {context}\"\n",
    "    response = ollama.chat(model=llm_model, messages=[{'role': 'user', 'content': formatted_prompt}])\n",
    "    return response['message']['content']\n",
    "\n",
    "# Define the RAG chain\n",
    "def rag_chain(question, retriever):\n",
    "    retrieved_docs = retriever.invoke(question)\n",
    "    formatted_context = format_docs(retrieved_docs)\n",
    "    return ollama_llm(question, formatted_context)\n",
    "\n",
    "# Use the RAG chain with one of the retrievers\n",
    "result = rag_chain(\"What are the key features of transformers in NLP?\", retriever=url_retriever)\n",
    "display(Markdown(result))\n"
   ]
  },
  {
   "cell_type": "code",
   "execution_count": null,
   "metadata": {},
   "outputs": [],
   "source": [
    "#take home 12\n",
    "# Answer here\n",
    "plot_train_valid_accuracy(training_log)"
   ]
  },
  {
   "cell_type": "code",
   "execution_count": null,
   "metadata": {},
   "outputs": [],
   "source": [
    "KNN is simple but less effective with high-dimensional data like LLM embeddings.\n",
    "Neural Networks can leverage the rich semantic structure of LLM embeddings and fine-tune their representations, leading to superior performance.\n",
    "The choice of model should depend on the task complexity, data dimensionality, and computational constraints. For LLM embeddings, neural networks are generally the more effective choice."
   ]
  },
  {
   "cell_type": "code",
   "execution_count": null,
   "metadata": {},
   "outputs": [],
   "source": [
    "#take home 13\n",
    "# Answer here\n",
    "Impact of Few-Shot Learning:\n",
    "\n",
    "Moving from zero-shot to 5-shot prompting demonstrates a gradual improvement in performance, especially for well-defined emotions like anger and joy.\n",
    "Few-shot examples help ground the model in task-specific nuances, though improvement is limited by inherent overlaps in some emotions.\n",
    "Class-Specific Behavior:\n",
    "\n",
    "Anger: The most consistently predicted emotion across all settings, likely because it has distinct patterns in the embeddings.\n",
    "Fear and Sadness: Challenging to distinguish, likely due to shared features or lack of sufficient distinctive context in the embeddings.\n",
    "Joy: Reasonably well-classified but exhibits some confusion with sadness in all settings.\n",
    "Embedding and Model Limitations:\n",
    "\n",
    "Pretrained language model embeddings might not perfectly encode subtle distinctions between similar emotions.\n",
    "The classification model might benefit from more examples, improved prompts, or domain-specific fine-tuning of the embeddings.\n"
   ]
  },
  {
   "cell_type": "markdown",
   "metadata": {},
   "source": [
    "# Kaggle Competition"
   ]
  },
  {
   "cell_type": "markdown",
   "metadata": {},
   "source": [
    "## Data preparation"
   ]
  },
  {
   "cell_type": "markdown",
   "metadata": {},
   "source": [
    "Transform JSON data into a DataFrame"
   ]
  },
  {
   "cell_type": "code",
   "execution_count": null,
   "metadata": {},
   "outputs": [],
   "source": [
    "import pandas as pd\n",
    "import json"
   ]
  },
  {
   "cell_type": "code",
   "execution_count": null,
   "metadata": {},
   "outputs": [],
   "source": [
    "# Initialize an empty list to store DataFrames, each representing processed data from a JSON chunk.\n",
    "dfs = []\n",
    "\n",
    "# Read the JSON file using pandas' read_json function with the following parameters:\n",
    "# - 'lines=True': Each line in the file represents a separate JSON object.\n",
    "# - 'chunksize=1000': Process the file in chunks of 1000 rows at a time for memory efficiency.\n",
    "json_chunks = pd.read_json(\n",
    "    '/kaggle/input/dm-2024-isa-5810-lab-2-homework/tweets_DM.json',\n",
    "    lines=True,\n",
    "    chunksize=1000\n",
    ")\n",
    "\n",
    "# Iterate over each chunk of JSON data using enumerate to track the index and content of the chunk.\n",
    "for i, chunk in enumerate(json_chunks):\n",
    "    # Use json_normalize to flatten the JSON structure and extract data from the '_source' field.\n",
    "    df = pd.json_normalize(chunk['_source'])\n",
    "    \n",
    "    # Append the flattened DataFrame to the list.\n",
    "    dfs.append(df)\n",
    "\n",
    "# Concatenate all the DataFrames (processed chunks) into a single DataFrame.\n",
    "# - axis=0: Concatenate along the rows (vertically).\n",
    "tweets_df = pd.concat(dfs, axis=0)\n",
    "\n",
    "# Rename the columns of the resulting DataFrame to make them more meaningful and readable.\n",
    "tweets_df.columns = ['hashtags', 'tweet_id', 'text']\n"
   ]
  },
  {
   "cell_type": "code",
   "execution_count": null,
   "metadata": {},
   "outputs": [],
   "source": [
    "# Save the processed DataFrame (tweets_df) as a pickle file named 'tweets_DM.pkl'.\n",
    "# - Pickle is a Python-specific binary format for serializing and saving objects.\n",
    "# - This allows the DataFrame to be quickly reloaded later without reprocessing the original JSON file.\n",
    "tweets_df.to_pickle('tweets_DM.pkl')\n"
   ]
  },
  {
   "cell_type": "code",
   "execution_count": null,
   "metadata": {},
   "outputs": [],
   "source": [
    "# Load the saved DataFrame from the pickle file 'tweets_DM.pkl'.\n",
    "# - The pickle file must be located in the current working directory or at the specified path.\n",
    "# - This restores the DataFrame exactly as it was when saved.\n",
    "tweets_df = pd.read_pickle('tweets_DM.pkl')\n",
    "\n",
    "# Display the loaded DataFrame.\n",
    "# - Simply typing the variable name will show its contents, typically the first and last few rows.\n",
    "tweets_df\n"
   ]
  },
  {
   "cell_type": "code",
   "execution_count": null,
   "metadata": {},
   "outputs": [],
   "source": [
    "# Load the 'data_identification.csv' file into a DataFrame named dataid_df.\n",
    "# - 'encoding=\"utf-8\"': Ensures proper handling of text data encoded in UTF-8.\n",
    "id_df = pd.read_csv('/kaggle/input/dm-2024-isa-5810-lab-2-homework/data_identification.csv', encoding='utf-8')\n",
    "\n",
    "# Load the 'emotion.csv' file into a DataFrame named emotion_df.\n",
    "# - 'encoding=\"utf-8\"': Handles text encoding properly to avoid decoding errors for non-ASCII characters.\n",
    "emo_df = pd.read_csv('/kaggle/input/dm-2024-isa-5810-lab-2-homework/emotion.csv', encoding='utf-8')\n",
    "\n",
    "# Load the 'sampleSubmission.csv' file into a DataFrame named submition_df.\n",
    "# - 'encoding=\"utf-8\"': Ensures proper handling of special characters in the file.\n",
    "sub_df = pd.read_csv('/kaggle/input/dm-2024-isa-5810-lab-2-homework/sampleSubmission.csv', encoding='utf-8')\n"
   ]
  },
  {
   "cell_type": "code",
   "execution_count": null,
   "metadata": {},
   "outputs": [],
   "source": [
    "emo_df"
   ]
  },
  {
   "cell_type": "code",
   "execution_count": null,
   "metadata": {},
   "outputs": [],
   "source": [
    "# Rename the columns of the DataFrame sub_df to make them more descriptive and aligned with their purpose.\n",
    "# - 'tweet_id': Represents the unique identifier for each tweet.\n",
    "# - 'emotion': Represents the predicted or labeled emotion for each tweet.\n",
    "sub_df.columns = ['tweet_id', 'emotion']\n",
    "\n",
    "# Display the contents of the renamed DataFrame.\n",
    "# - This outputs the DataFrame in the notebook to verify the column renaming was successful.\n",
    "sub_df\n"
   ]
  },
  {
   "cell_type": "markdown",
   "metadata": {},
   "source": [
    "Merge tweets with identification and emotion labels"
   ]
  },
  {
   "cell_type": "code",
   "execution_count": null,
   "metadata": {},
   "outputs": [],
   "source": [
    "# Count the occurrences of each unique value in the 'identification' column of the dataid_df DataFrame.\n",
    "# - This is useful for understanding the distribution of data types or categories in the column.\n",
    "dataid_df['identification'].value_counts()\n"
   ]
  },
  {
   "cell_type": "code",
   "execution_count": null,
   "metadata": {},
   "outputs": [],
   "source": [
    "# Merge the tweets_df DataFrame with emo_df (emotion DataFrame) on the 'tweet_id' column.\n",
    "# - This joins the emotion labels with the tweet data using 'tweet_id' as the key.\n",
    "# - By default, this performs an inner join, keeping only rows with matching 'tweet_id' in both DataFrames.\n",
    "train_df = tweets_df.merge(emo_df, on='tweet_id') \\\n",
    "                    .merge(id_df, on='tweet_id')\n",
    "\n",
    "# Display the resulting merged DataFrame, train_df.\n",
    "# - This allows you to verify that the merge operation combined the data as expected.\n",
    "train_df\n"
   ]
  },
  {
   "cell_type": "code",
   "execution_count": null,
   "metadata": {},
   "outputs": [],
   "source": [
    "import numpy as np\n",
    "import matplotlib.pyplot as plt\n",
    "\n",
    "# Define a function to plot the distribution of categories in a specific column of a DataFrame.\n",
    "# Default column is 'emotion', but this can be adjusted to other columns.\n",
    "def plot_category_distribution(df, column='emotion'):\n",
    "    # Get unique labels (categories) in the specified column.\n",
    "    labels = df[column].unique()\n",
    "    \n",
    "    # Calculate the total number of rows (instances) in the DataFrame.\n",
    "    post_total = len(df)\n",
    "    \n",
    "    # Group the DataFrame by the specified column and count the number of occurrences of each label.\n",
    "    # The 'text' column is used for counting instances, but you could also count other columns.\n",
    "    df_grouped = df.groupby([column]).count()['text']\n",
    "    \n",
    "    # Convert counts into percentages relative to the total number of instances.\n",
    "    df_grouped = df_grouped.apply(lambda x: round(x*100/post_total, 3))\n",
    "\n",
    "    # Create a bar plot to visualize the category distribution.\n",
    "    fig, ax = plt.subplots(figsize=(5, 3))  # Set figure size.\n",
    "    plt.bar(df_grouped.index, df_grouped.values)  # Plot the bars.\n",
    "\n",
    "    # Arrange labels and title for the plot.\n",
    "    plt.ylabel('% of instances')  # Y-axis label indicating percentage.\n",
    "    plt.xlabel(f'{column.capitalize()}')  # X-axis label showing the column name.\n",
    "    plt.xticks(rotation=45)  # Rotate x-axis labels by 45 degrees for better readability.\n",
    "    plt.title(f'{column.capitalize()} distribution')  # Title of the plot.\n",
    "    plt.grid(True)  # Add grid lines to the plot for better visibility.\n",
    "    \n",
    "    # Show the plot.\n",
    "    plt.show()\n"
   ]
  },
  {
   "cell_type": "code",
   "execution_count": null,
   "metadata": {},
   "outputs": [],
   "source": [
    "train_df.emotion.value_counts(normalize=False)"
   ]
  },
  {
   "cell_type": "code",
   "execution_count": null,
   "metadata": {},
   "outputs": [],
   "source": [
    "test_df = tweets_df.merge(submition_df, on='tweet_id').merge(dataid_df, on='tweet_id')\n",
    "test_df"
   ]
  },
  {
   "cell_type": "markdown",
   "metadata": {},
   "source": [
    "Creating features through the Bag of Words model."
   ]
  },
  {
   "cell_type": "code",
   "execution_count": null,
   "metadata": {},
   "outputs": [],
   "source": [
    "from sklearn.feature_extraction.text import CountVectorizer\n",
    "import nltk\n",
    "# Download punkt\n",
    "try:\n",
    "    nltk.data.find('punkt_tab')\n",
    "except:\n",
    "    nltk.download('punkt_tab', download_dir='/kaggle/working/')\n",
    "    nltk.data.path.append('/kaggle/working/')\n",
    "  \n",
    "# build analyzers (bag-of-words)\n",
    "BOW_500 = CountVectorizer(max_features=500, tokenizer=nltk.word_tokenize) \n",
    "\n",
    "# apply analyzer to training data\n",
    "BOW_500.fit(train_df['text'])\n",
    "\n",
    "train_data_BOW_features_500 = BOW_500.transform(train_df['text'])\n",
    "\n",
    "## check dimension\n",
    "train_data_BOW_features_500.shape"
   ]
  },
  {
   "cell_type": "code",
   "execution_count": null,
   "metadata": {},
   "outputs": [],
   "source": [
    "train_data_BOW_features_500.shape"
   ]
  },
  {
   "cell_type": "code",
   "execution_count": null,
   "metadata": {},
   "outputs": [],
   "source": [
    "# observe some feature names\n",
    "feature_names = BOW_500.get_feature_names_out()"
   ]
  },
  {
   "cell_type": "markdown",
   "metadata": {},
   "source": [
    "Model"
   ]
  },
  {
   "cell_type": "markdown",
   "metadata": {},
   "source": [
    "Decision Trees"
   ]
  },
  {
   "cell_type": "code",
   "execution_count": null,
   "metadata": {},
   "outputs": [],
   "source": [
    "test_df.loc[test_df['emotion'] == 'surprise', 'emotion'] = np.nan"
   ]
  },
  {
   "cell_type": "code",
   "execution_count": null,
   "metadata": {},
   "outputs": [],
   "source": [
    "from sklearn.tree import DecisionTreeClassifier\n",
    "\n",
    "# For a classification problem, you need to provide both training and testing data.\n",
    "# 'X_train' contains the feature matrix (converted text data) for the training set.\n",
    "# 'y_train' contains the labels (emotions) for the training set.\n",
    "\n",
    "X_train = BOW_500.transform(train_df['text'])  # Convert the training text to feature vectors using Bag of Words (BOW).\n",
    "y_train = train_df['emotion']  # The target labels (emotions) for the training data.\n",
    "\n",
    "# 'X_test' contains the feature matrix for the test set.\n",
    "# 'y_test' contains the true labels for the test set (used for evaluation).\n",
    "\n",
    "X_test = BOW_500.transform(test_df['text'])  # Convert the test text to feature vectors using BOW.\n",
    "y_test = test_df['emotion']  # The target labels (emotions) for the test data.\n",
    "\n",
    "# It’s a good practice to check the dimensions of your data before training a model.\n",
    "# This will ensure that your feature matrix and target labels have the correct shape.\n",
    "\n",
    "print('X_train.shape: ', X_train.shape)  # Print the shape of the training feature matrix.\n",
    "print('y_train.shape: ', y_train.shape)  # Print the shape of the training labels.\n",
    "print('X_test.shape: ', X_test.shape)  # Print the shape of the test feature matrix.\n",
    "print('y_test.shape: ', y_test.shape)  # Print the shape of the test labels.\n"
   ]
  },
  {
   "cell_type": "code",
   "execution_count": null,
   "metadata": {},
   "outputs": [],
   "source": [
    "## build DecisionTree model\n",
    "DT_model = DecisionTreeClassifier(random_state=1)\n",
    "\n",
    "## training!\n",
    "DT_model = DT_model.fit(X_train, y_train)\n",
    "\n",
    "## predict!\n",
    "y_train_pred = DT_model.predict(X_train)\n",
    "y_test_pred = DT_model.predict(X_test)\n",
    "\n",
    "## so we get the pred result\n",
    "y_test_pred[:10]"
   ]
  },
  {
   "cell_type": "markdown",
   "metadata": {},
   "source": [
    "Save the Submission File"
   ]
  },
  {
   "cell_type": "code",
   "execution_count": null,
   "metadata": {},
   "outputs": [],
   "source": [
    "from datetime import datetime\n",
    "\n",
    "# Get the current date and time, formatted as 'YYYYMMDD_HHMMSS'\n",
    "timestamp = datetime.now().strftime('%Y%m%d_%H%M%S')\n",
    "\n",
    "# Update the filename with a new name and the timestamp\n",
    "filename = f\"/kaggle/working/new_submission_{timestamp}.csv\"  # Changed the prefix to 'new_submission'\n",
    "\n",
    "# Rest of your code for preparing the submission\n",
    "submission_df = test_df.copy()  # Create a copy of the test DataFrame\n",
    "submission_df.emotion = y_test_pred  # Add the predicted 'emotion' to the DataFrame\n",
    "submission_df.drop(columns=['hashtags', 'text', 'identification'], axis=1, inplace=True)  # Drop unnecessary columns\n",
    "submission_df.columns = ['id', 'emotion']  # Rename columns for the final output\n",
    "submission_df.to_csv(filename, index=False)  # Save the final DataFrame to CSV with the new filename\n"
   ]
  }
 ],
 "metadata": {
  "kernelspec": {
   "display_name": "Python 3 (ipykernel)",
   "language": "python",
   "name": "python3"
  },
  "language_info": {
   "codemirror_mode": {
    "name": "ipython",
    "version": 3
   },
   "file_extension": ".py",
   "mimetype": "text/x-python",
   "name": "python",
   "nbconvert_exporter": "python",
   "pygments_lexer": "ipython3",
   "version": "3.12.6"
  },
  "varInspector": {
   "cols": {
    "lenName": 16,
    "lenType": 16,
    "lenVar": 40
   },
   "kernels_config": {
    "python": {
     "delete_cmd_postfix": "",
     "delete_cmd_prefix": "del ",
     "library": "var_list.py",
     "varRefreshCmd": "print(var_dic_list())"
    },
    "r": {
     "delete_cmd_postfix": ") ",
     "delete_cmd_prefix": "rm(",
     "library": "var_list.r",
     "varRefreshCmd": "cat(var_dic_list()) "
    }
   },
   "types_to_exclude": [
    "module",
    "function",
    "builtin_function_or_method",
    "instance",
    "_Feature"
   ],
   "window_display": false
  }
 },
 "nbformat": 4,
 "nbformat_minor": 4
}
